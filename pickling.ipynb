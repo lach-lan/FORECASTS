{
 "cells": [
  {
   "cell_type": "code",
   "execution_count": 6,
   "id": "e7eb14b4-ed8f-4e84-8d1a-52ce6c45ecab",
   "metadata": {},
   "outputs": [],
   "source": [
    "import pandas as pd\n",
    "import scipy\n",
    "import sys\n",
    "import pickle\n",
    "import scanpy as sc"
   ]
  },
  {
   "cell_type": "code",
   "execution_count": null,
   "id": "4b383e54-7a19-461d-ba29-5bb518051b3d",
   "metadata": {},
   "outputs": [],
   "source": []
  },
  {
   "cell_type": "code",
   "execution_count": 2,
   "id": "6b70acfd-a25e-479a-a113-14b28c9e341c",
   "metadata": {},
   "outputs": [],
   "source": [
    "sc_raw = pd.read_csv(\"Old/Old Datasets/tang/count_data.csv\", index_col = 'Unnamed: 0').T\n",
    "sc_yng = sc_raw.loc[[x for x in sc_raw.index if x[-1] == '1']]\n",
    "sc_old = sc_raw.loc[[x for x in sc_raw.index if x[-1] == '2']]\n",
    "sc_yng_sparse = scipy.sparse.coo_array(sc_yng)\n",
    "sc_old_sparse = scipy.sparse.coo_array(sc_old)\n",
    "genes = list(sc_yng.columns)\n",
    "\n",
    "with open('Model/model_yng.pkl', 'wb') as f:\n",
    "    pickle.dump(sc_yng_sparse, f)\n",
    "with open('Model/model_old.pkl', 'wb') as f:\n",
    "    pickle.dump(sc_old_sparse, f)\n",
    "with open('Model/model_genes.pkl', 'wb') as f:\n",
    "    pickle.dump(genes, f)"
   ]
  },
  {
   "cell_type": "code",
   "execution_count": null,
   "id": "9b1a0ab0-c3a0-44b6-acd0-34eace4ee36c",
   "metadata": {},
   "outputs": [],
   "source": []
  },
  {
   "cell_type": "code",
   "execution_count": 3,
   "id": "31887b0e-304f-4415-a5c8-fa15fb17dcb4",
   "metadata": {},
   "outputs": [],
   "source": [
    "senmayo_tsv = pd.read_csv('Old/Old Genesets/SAUL_SEN_MAYO.v2023.2.Hs.tsv', sep='\\t')\n",
    "senmayo = senmayo_tsv[senmayo_tsv['STANDARD_NAME'] == 'GENE_SYMBOLS']['SAUL_SEN_MAYO'][16].split(',')\n",
    "\n",
    "with open('Genesets/senmayo.pkl', 'wb') as f:\n",
    "    pickle.dump(senmayo, f)"
   ]
  },
  {
   "cell_type": "code",
   "execution_count": 4,
   "id": "dec41321-0649-443e-b913-dfc5bd89abf8",
   "metadata": {},
   "outputs": [],
   "source": [
    "sasp_factors = ['IL6', 'IL1A', 'IL1B', 'CXCL8', 'CXCL1', 'CXCL2', 'CSF2', 'MMP1', 'MMP3', 'MMP10', 'ICAM1', 'SERPINE1', \n",
    "                'IGFBP1', 'IGFBP2', 'IGFBP3', 'IGFBP4', 'IGFBP5', 'IGFBP6', 'IGFBP7', 'IL7', 'IL13', 'IL15', 'CCL8', 'CCL3', \n",
    "                'CCL13', 'CCL16', 'CCL20', 'CCL26', 'MIF', 'AREG', 'EREG', 'FGF2', 'HGF', 'FGF7', 'VEGF', 'ANG', 'KITLG', 'PIGF', \n",
    "                'MMP12', 'MMP13', 'MMP14', 'TIMP2', 'SERPINE2'] # FROM 10.1146/annurev-pathol-121808-102144\n",
    "\n",
    "with open('Genesets/sasp_factors.pkl', 'wb') as f:\n",
    "    pickle.dump(sasp_factors, f)"
   ]
  },
  {
   "cell_type": "code",
   "execution_count": 5,
   "id": "c2701cd7-949d-46a3-966d-983aab75fcc5",
   "metadata": {},
   "outputs": [],
   "source": [
    "fridman_tsv = pd.read_csv('Old/Old Genesets/FRIDMAN_SENESCENCE_UP.v2023.2.Hs.tsv', sep='\\t')\n",
    "fridman = fridman_tsv[fridman_tsv['STANDARD_NAME'] == 'GENE_SYMBOLS']['FRIDMAN_SENESCENCE_UP'][16].split(',')\n",
    "\n",
    "with open('Genesets/fridman.pkl', 'wb') as f:\n",
    "    pickle.dump(fridman, f)"
   ]
  },
  {
   "cell_type": "code",
   "execution_count": null,
   "id": "52d0080e-f5cc-4454-a505-f3362da3f2be",
   "metadata": {},
   "outputs": [],
   "source": []
  },
  {
   "cell_type": "code",
   "execution_count": 19,
   "id": "3c95040c-0a43-456e-a0e8-29e1c712e99a",
   "metadata": {},
   "outputs": [],
   "source": [
    "sc_data_anno = sc.read_h5ad('bcc_and_normal-CG_portal_fat.h5ad')\n",
    "\n",
    "source_to_sample_names = {\n",
    "    'WS_SKN_KCL10525738' : 'face_forehead4',\n",
    "    'WS_SKN_KCL10525739' : 'face_cheek4',\n",
    "    'WS_SKN_KCL10525740' : 'bcc_cheek1',\n",
    "    'WS_SKN_KCL10525741' : 'face_forehead5',\n",
    "    'WS_SKN_KCL10525742' : 'bcc_forehead1',\n",
    "    'WS_SKN_KCL10525743' : 'bcc_temple1',\n",
    "    'WS_SKN_KCL10525745' : 'bcc_temple2',\n",
    "    'WS_SKN_KCL10525746' : 'bcc_ear2',\n",
    "    'WS_SKN_KCL10525747' : 'bcc_cheek2',\n",
    "    'WS_SKN_KCL9369529' : 'face_ear1',\n",
    "    'WS_SKN_KCL9369530' : 'face_nose1',\n",
    "    'WS_SKN_KCL9369531' : 'face_cheek1',\n",
    "    'WS_SKN_KCL9369532' : 'face_forehead1',\n",
    "    'WS_SKN_KCL9369533' : 'face_forehead2',\n",
    "    'WS_SKN_KCL9369534' : 'face_cheek2',\n",
    "    'WS_SKN_KCL9369625' : 'face_ear2',\n",
    "    'WS_SKN_KCL9369626' : 'bcc_ear1',\n",
    "    'WS_SKN_KCL9369628' : 'face_temple1',\n",
    "    'WS_SKN_KCL9369629' : 'face_forehead3',\n",
    "    'WS_SKN_KCL9369630' : 'bcc_nose1',\n",
    "    'WS_SKN_KCL9369631' : 'face_temple2',\n",
    "    'WS_SKN_KCL9369632' : 'face_cheek3b',\n",
    "}\n",
    "sample_to_source_names = {v: k for k, v in source_to_sample_names.items()}\n",
    "for x in [x for x in sc_data_anno.obs['01_sample'].unique() if x not in sample_to_source_names.keys()]:\n",
    "    sample_to_source_names.update({x : None})\n",
    "\n",
    "sc_data_anno.obs['Source'] = [sample_to_source_names[x] for x in sc_data_anno.obs['01_sample']]"
   ]
  },
  {
   "cell_type": "code",
   "execution_count": 20,
   "id": "6febaef0-0f4e-456c-8f57-19cf9dcf9bb3",
   "metadata": {},
   "outputs": [],
   "source": [
    "with open('GanierDatasets/singlecell/WS_SKN_KCL10525747.pkl', 'wb') as f:\n",
    "    pickle.dump(sc_data_anno[sc_data_anno.obs['Source'] == 'WS_SKN_KCL10525747'].copy(), f)"
   ]
  },
  {
   "cell_type": "code",
   "execution_count": 21,
   "id": "aa925757-4047-496e-9482-cb2742ef78df",
   "metadata": {},
   "outputs": [],
   "source": [
    "with open('GanierDatasets/singlecell/WS_SKN_KCL9369630.pkl', 'wb') as f:\n",
    "    pickle.dump(sc_data_anno[sc_data_anno.obs['Source'] == 'WS_SKN_KCL9369630'].copy(), f)"
   ]
  },
  {
   "cell_type": "code",
   "execution_count": null,
   "id": "8d1dec73-f570-4850-bc5e-bf6798dbdefe",
   "metadata": {},
   "outputs": [],
   "source": []
  }
 ],
 "metadata": {
  "kernelspec": {
   "display_name": "Python 3 (ipykernel)",
   "language": "python",
   "name": "python3"
  },
  "language_info": {
   "codemirror_mode": {
    "name": "ipython",
    "version": 3
   },
   "file_extension": ".py",
   "mimetype": "text/x-python",
   "name": "python",
   "nbconvert_exporter": "python",
   "pygments_lexer": "ipython3",
   "version": "3.11.8"
  }
 },
 "nbformat": 4,
 "nbformat_minor": 5
}
